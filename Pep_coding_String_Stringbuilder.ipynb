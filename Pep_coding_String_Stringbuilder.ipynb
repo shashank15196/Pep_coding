{
 "cells": [
  {
   "cell_type": "code",
   "execution_count": 3,
   "metadata": {},
   "outputs": [
    {
     "name": "stdout",
     "output_type": "stream",
     "text": [
      "a\n",
      "b\n",
      "c\n",
      "cc\n",
      "c\n"
     ]
    }
   ],
   "source": [
    "####3 Print palindromic substrings\n",
    "\n",
    "\n",
    "# 1. You are given a string. \n",
    "# 2. You have to print all palindromic substrings of the given string.\n",
    "\n",
    "\n",
    "# class Solution:\n",
    "#    def countSubstrings(self, s):\n",
    "#       counter = 0\n",
    "#       for i in range(len(s)):\n",
    "#          for j in range(i+1,len(s)+1):\n",
    "#             temp = s[i:j]\n",
    "#             if temp == temp[::-1]:\n",
    "#                counter+=1\n",
    "#       return counter\n",
    "# ob1 = Solution()\n",
    "# print(ob1.countSubstrings(\"aaaa\"))\n",
    "\n",
    "\n",
    "def isPalindrome(str):\n",
    "    left = 0 \n",
    "    right = len(str) -1\n",
    "    while(left < right):\n",
    "        if(str[left] != str[right]):\n",
    "            return (False)\n",
    "            \n",
    "        left=left+1 \n",
    "        right=right-1\n",
    "            \n",
    "    return (True)\n",
    "\n",
    "def solution(string):\n",
    "    for st in range(len(string)):\n",
    "        for end in range(st,len(string)):\n",
    "            subString = string[st:end + 1]\n",
    "            if(isPalindrome(subString) == True):\n",
    "                print(subString)\n",
    "               \n",
    "################################why not resulting the answer\n",
    "\n",
    "solution(\"abcc\")\n"
   ]
  },
  {
   "cell_type": "code",
   "execution_count": 9,
   "metadata": {},
   "outputs": [
    {
     "data": {
      "text/plain": [
       "' ABCa'"
      ]
     },
     "execution_count": 9,
     "metadata": {},
     "output_type": "execute_result"
    }
   ],
   "source": [
    "#TOGGLE CASE\n",
    "\n",
    "\n",
    "# 1. You are given a string that contains only lowercase and uppercase alphabets. \n",
    "# 2. You have to toggle the case of every character of the given string.\n",
    "\n",
    "\n",
    "def togglecase(str):\n",
    "    ans=\" \"\n",
    "    for i in range(len(str)):\n",
    "        \n",
    "        if(str[i] >= 'A' and str[i] <= 'Z'):  ##### for uppercase\n",
    "            ans = ans+ chr(ord(str[i]) + (32))  ## \n",
    "        else:\n",
    "            ans =ans+ chr(ord(str[i]) - (32))\n",
    "            \n",
    "        \n",
    "    return ans\n",
    "####################################################################### \n",
    "\n",
    "togglecase(\"abcA\")     \n"
   ]
  },
  {
   "cell_type": "code",
   "execution_count": null,
   "metadata": {},
   "outputs": [],
   "source": [
    "#String With Difference Of Every Two Consecutive Characters\n",
    "\n",
    "# 1. You are given a string that contains only lowercase and uppercase alphabets. \n",
    "# 2. You have to form a string that contains the difference of ASCII values of every two consecutive characters between those characters.\n",
    "#    For \"abecd\", the answer should be \"a1b3e-2c1d\", as \n",
    "#    'b'-'a' = 1\n",
    "#    'e'-'b' = 3\n",
    "#    'c'-'e' = -2\n",
    "#    'd'-'c' = 1\n",
    "\n",
    "# sb=\" \"\n",
    "# def solution(str):\n",
    "#     sb=\n",
    "#     for in range(len(str)-1):\n",
    "#             sb.append(str[i]) ## append first character in pair\n",
    "#             sb.append(str[i+1] - str[i] )  ####append difference in ASCII values in pair\n",
    "        \n",
    "#     sb.append(str[str.length() - 1]) ##append last character (corner case) \n",
    "#            return sb.toString(\n",
    "# \t}\n",
    "# \tpublic static void main(String[] args) {\n",
    "# \t\tScanner scn = new Scanner(System.in);\n",
    "# \t\tString str = scn.next();\n",
    "# \t\tSystem.out.println(solution(str));"
   ]
  }
 ],
 "metadata": {
  "kernelspec": {
   "display_name": "Python 3",
   "language": "python",
   "name": "python3"
  },
  "language_info": {
   "codemirror_mode": {
    "name": "ipython",
    "version": 3
   },
   "file_extension": ".py",
   "mimetype": "text/x-python",
   "name": "python",
   "nbconvert_exporter": "python",
   "pygments_lexer": "ipython3",
   "version": "3.8.3"
  }
 },
 "nbformat": 4,
 "nbformat_minor": 4
}
