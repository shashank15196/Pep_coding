{
 "cells": [
  {
   "cell_type": "code",
   "execution_count": 10,
   "metadata": {
    "scrolled": true
   },
   "outputs": [
    {
     "name": "stdout",
     "output_type": "stream",
     "text": [
      "Enter the size of the array: 3\n",
      "Enter the Element of the array:\n",
      "4\n",
      "10\n",
      "3\n",
      "4 10 3 "
     ]
    }
   ],
   "source": [
    "###Display Array\n",
    "\n",
    "# 1. You are given a number n, representing the size of array a.\n",
    "# 2. You are given n numbers, representing elements of array a.\n",
    "# 3. You are required to print the elements of array from beginning to end each in a separate line.\n",
    "# 4. For the above purpose complete the body of displayArr function. Don't change the signature.\n",
    "\n",
    "# Note -> The online judge can't force you to write the function recursively but that is what the spirit of question is. Write recursive and not iterative logic. The purpose of the question is to aid learning recursion and not test you.\n",
    "\n",
    "arr=[]\n",
    "n = int(input(\"Enter the size of the array: \"))\n",
    "print(\"Enter the Element of the array:\")\n",
    "for i in range(0,n):\n",
    "    num = int(input())\n",
    "    arr.append(num)\n",
    "\n",
    "\n",
    "def display_arr(arr,idx):\n",
    "     if(idx==len(arr)):\n",
    "        return\n",
    "     \n",
    "    ## print arr of idx\n",
    "     print(arr[idx], end=\" \")\n",
    "        \n",
    "    \n",
    "    ##faith\n",
    "    \n",
    "     display_arr(arr,idx+1)\n",
    "\n",
    "display_arr(arr,0)\n",
    "        \n",
    "        \n"
   ]
  },
  {
   "cell_type": "code",
   "execution_count": 11,
   "metadata": {},
   "outputs": [
    {
     "name": "stdout",
     "output_type": "stream",
     "text": [
      "Enter the size of the array: 3\n",
      "Enter the Element of the array:\n",
      "1\n",
      "2\n",
      "3\n",
      "3 2 1 "
     ]
    }
   ],
   "source": [
    "##REVERSE OF ARRAY USING RECURSIION\n",
    "\n",
    "# 1. You are given a number n, representing the size of array a.\n",
    "# 2. You are given n numbers, representing elements of array a.\n",
    "# 3. You are required to print the elements of array from end to beginning each in a separate line.\n",
    "# 4. For the above purpose complete the body of displayArrReverse function. Don't change the signature.\n",
    "\n",
    "# Note -> The online judge can't force you to write the function recursively but that is what the spirit of question is. Write recursive and not iterative logic. The purpose of the question is to aid learning recursion and not test you.\n",
    "arr=[]\n",
    "n = int(input(\"Enter the size of the array: \"))\n",
    "print(\"Enter the Element of the array:\")\n",
    "for i in range(0,n):\n",
    "    num = int(input())\n",
    "    arr.append(num)\n",
    "\n",
    "def ReverseArray(arr,n):\n",
    "    if(n>0):\n",
    "        i=n-1\n",
    "        print(arr[i], end=\" \")\n",
    "        ReverseArray(arr, i)\n",
    "\n",
    "\n",
    "ReverseArray(arr,n)\n",
    "\n"
   ]
  },
  {
   "cell_type": "code",
   "execution_count": 5,
   "metadata": {},
   "outputs": [
    {
     "name": "stdout",
     "output_type": "stream",
     "text": [
      "98\n"
     ]
    }
   ],
   "source": [
    "#MAXIMUM ELEMENT IN THAT ARRAY USING RECURSION\n",
    "\n",
    "# 1. You are given a number n, representing the count of elements.\n",
    "# 2. You are given n numbers.\n",
    "# 3. You are required to find the maximum of input. \n",
    "# 4. For the purpose complete the body of maxOfArray function. Don't change the signature.\n",
    "\n",
    "# Note -> The online judge can't force you to write the function recursively but that is what the spirit of question is. Write recursive and not iterative logic. The purpose of the question is to aid learning recursion and not test you.\n",
    "def max(list):\n",
    "    if list == []:\n",
    "        element= \"List: \"    \n",
    "        return element\n",
    "\n",
    "    max = list[0]\n",
    "    for item in list[1:]:\n",
    "        if item > max:\n",
    "            max = item\n",
    "    return max\n",
    "\n",
    "data = [8,2,-690,4,12,-320,0, 98]\n",
    "print(max(data))"
   ]
  },
  {
   "cell_type": "code",
   "execution_count": 1,
   "metadata": {},
   "outputs": [
    {
     "name": "stdout",
     "output_type": "stream",
     "text": [
      "3\n",
      "1 2 3\n",
      "1\n",
      "0\n"
     ]
    }
   ],
   "source": [
    "## FIRST INDEX \n",
    "\n",
    "# 1. You are given a number n, representing the count of elements.\n",
    "# 2. You are given n numbers.\n",
    "# 3. You are given a number x. \n",
    "# 4. You are required to find the first index at which x occurs in array a.\n",
    "# 5. If x exists in array, print the first index where it is found otherwise print -1.\n",
    "\n",
    "# Note -> The online judge can't force you to write the function recursively but that is what the spirit of question is. Write recursive and not iterative logic. The purpose of the question is to aid learning recursion and not test you.\n",
    "\n",
    "n=int(input())\n",
    "arr=list(int(i) for i in input().strip().split(' '))\n",
    "x=int(input())\n",
    "\n",
    "def firstIndex(arr, x, idx):\n",
    "    l=len(arr) \n",
    "    ### base case\n",
    "    if idx==l:\n",
    "        return -1\n",
    "    if arr[idx]==x:\n",
    "        return idx\n",
    "    \n",
    "    ## faith\n",
    "    smalleroutput= firstIndex(arr, x, idx+1) \n",
    "    return smalleroutput\n",
    "\n",
    "\n",
    "print(firstIndex(arr, x, 0))"
   ]
  },
  {
   "cell_type": "code",
   "execution_count": 1,
   "metadata": {},
   "outputs": [],
   "source": [
    "#LAST DIGIT INDEX\n",
    "\n",
    "# 1. You are given a number n, representing the count of elements.\n",
    "# 2. You are given n numbers.\n",
    "# 3. You are given a number x. \n",
    "# 4. You are required to find the last index at which x occurs in array a.\n",
    "# 5. If x exists in array, print the last index where it is found otherwise print -1.\n",
    "\n",
    "# Note -> The online judge can't force you to write the function recursively but that is what the spirit of question is. Write recursive and not iterative logic. The purpose of the question is to aid learning recursion and not test you.\n",
    "\n",
    "\n",
    "\n"
   ]
  },
  {
   "cell_type": "code",
   "execution_count": null,
   "metadata": {},
   "outputs": [],
   "source": []
  },
  {
   "cell_type": "code",
   "execution_count": null,
   "metadata": {},
   "outputs": [],
   "source": []
  },
  {
   "cell_type": "code",
   "execution_count": null,
   "metadata": {},
   "outputs": [],
   "source": []
  }
 ],
 "metadata": {
  "kernelspec": {
   "display_name": "Python 3",
   "language": "python",
   "name": "python3"
  },
  "language_info": {
   "codemirror_mode": {
    "name": "ipython",
    "version": 3
   },
   "file_extension": ".py",
   "mimetype": "text/x-python",
   "name": "python",
   "nbconvert_exporter": "python",
   "pygments_lexer": "ipython3",
   "version": "3.8.3"
  }
 },
 "nbformat": 4,
 "nbformat_minor": 4
}
