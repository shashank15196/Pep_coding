{
 "cells": [
  {
   "cell_type": "code",
   "execution_count": 4,
   "metadata": {},
   "outputs": [
    {
     "name": "stdout",
     "output_type": "stream",
     "text": [
      "*****\n",
      "   * \n",
      "  *  \n",
      " *   \n",
      "*****\n"
     ]
    }
   ],
   "source": [
    "##Q1:\n",
    "## print \"Z\" in the pattern format:::\n",
    "print(\"*****\")\n",
    "print(\"   * \")\n",
    "print(\"  *  \")\n",
    "print(\" *   \")\n",
    "print(\"*****\")"
   ]
  },
  {
   "cell_type": "code",
   "execution_count": 8,
   "metadata": {},
   "outputs": [
    {
     "name": "stdout",
     "output_type": "stream",
     "text": [
      "enter the number: 89\n",
      "good\n"
     ]
    }
   ],
   "source": [
    "##Q2::\n",
    "##1. You are given as input marks of a student.\n",
    "#2. Display an appropriate message based on the following rules:\n",
    " # \t  2.1 for marks above 90, print excellent.\n",
    "  #\t  2.2 for marks above 80 and less than equal to 90, print good.\n",
    "  #\t  2.3 for marks above 70 and less than equal to 80, print fair.\n",
    "  #\t  2.4 for marks above 60 and less than equal to 70, print meets expectations.\n",
    "  #\t  2.5 for marks less than equal to 60, print below par.\n",
    "    \n",
    "marks= int(input(\"enter the number: \"))\n",
    "if (marks > 90):\n",
    "    print(\"excellent\")\n",
    "elif(marks >80 and marks <=90):\n",
    "    print(\"good\")\n",
    "elif (marks >70 and marks<=80):\n",
    "    print(\"fair\")\n",
    "elif (marks >60 and marks <=70):\n",
    "    print(\"meets expectations\")\n",
    "else:\n",
    "    print(\"below par\")\n"
   ]
  },
  {
   "cell_type": "code",
   "execution_count": 27,
   "metadata": {},
   "outputs": [
    {
     "name": "stdout",
     "output_type": "stream",
     "text": [
      "enter the number: 4\n",
      " It is not prime number\n"
     ]
    }
   ],
   "source": [
    "#Q4:\n",
    "# 1. You've to check whether a given number is prime or not.\n",
    "# 2. Take a number \"t\" as input representing count of input numbers to be tested.\n",
    "# 3. Take a number \"n\" as input \"t\" number of times.\n",
    "# 4. For each input value of n, print \"prime\" if the number is prime and \"not prime\" otherwise.\n",
    "\n",
    "n= int(input(\"enter the number: \"))\n",
    "\n",
    "for i in range(2,n):\n",
    "    if (n%i)==0:\n",
    "        print(\" It is not prime number\")\n",
    "        break\n",
    "else:\n",
    "    print(\"It is a prime number\")\n",
    "    \n",
    "# how to take multiple values in inputs like : 4, 5, 21 etc all at one time"
   ]
  },
  {
   "cell_type": "code",
   "execution_count": 4,
   "metadata": {},
   "outputs": [
    {
     "name": "stdout",
     "output_type": "stream",
     "text": [
      " enter the lower number: 10\n",
      "enter the higher number20\n",
      "11\n",
      "13\n",
      "17\n",
      "19\n"
     ]
    }
   ],
   "source": [
    "#Q5:\n",
    "# 1. You've to print all prime numbers between a range. \n",
    "# 2. Take as input \"low\", the lower limit of range.\n",
    "# 3. Take as input \"high\", the higher limit of range.\n",
    "# 4. For the range print all the primes numbers between low and high (both included).\n",
    "\n",
    "n1= int(input(\" enter the lower number: \"))\n",
    "n2= int(input(\"enter the higher number  \"))\n",
    "\n",
    "for num in range(n1,n2+1):\n",
    "    if num > 1:\n",
    "        for i in range(2, num):\n",
    "            if (num % i) == 0:\n",
    "               break\n",
    "        else:\n",
    "           print(num)"
   ]
  },
  {
   "cell_type": "code",
   "execution_count": 5,
   "metadata": {},
   "outputs": [],
   "source": [
    "#Q 6\n",
    "# 1. You've to count the number of digits in a number.\n",
    "# 2. Take as input \"n\", the number for which the digits has to be counted.\n",
    "# 3. Print the digits in that number.\n",
    "\n"
   ]
  },
  {
   "cell_type": "code",
   "execution_count": 7,
   "metadata": {},
   "outputs": [
    {
     "name": "stdout",
     "output_type": "stream",
     "text": [
      "enter the number:1\n"
     ]
    },
    {
     "ename": "TypeError",
     "evalue": "'i' is an invalid keyword argument for print()",
     "output_type": "error",
     "traceback": [
      "\u001b[1;31m---------------------------------------------------------------------------\u001b[0m",
      "\u001b[1;31mTypeError\u001b[0m                                 Traceback (most recent call last)",
      "\u001b[1;32m<ipython-input-7-b723dfba6aed>\u001b[0m in \u001b[0;36m<module>\u001b[1;34m\u001b[0m\n\u001b[0;32m     11\u001b[0m \u001b[1;33m\u001b[0m\u001b[0m\n\u001b[0;32m     12\u001b[0m \u001b[1;32mfor\u001b[0m \u001b[0mi\u001b[0m \u001b[1;32min\u001b[0m \u001b[0mrange\u001b[0m\u001b[1;33m(\u001b[0m\u001b[1;36m0\u001b[0m\u001b[1;33m,\u001b[0m\u001b[0mn\u001b[0m\u001b[1;33m+\u001b[0m\u001b[1;36m1\u001b[0m\u001b[1;33m)\u001b[0m\u001b[1;33m:\u001b[0m\u001b[1;33m\u001b[0m\u001b[1;33m\u001b[0m\u001b[0m\n\u001b[1;32m---> 13\u001b[1;33m     \u001b[0mprint\u001b[0m\u001b[1;33m(\u001b[0m\u001b[0mi\u001b[0m\u001b[1;33m=\u001b[0m\u001b[0mi\u001b[0m\u001b[1;33m+\u001b[0m\u001b[1;36m1\u001b[0m\u001b[1;33m)\u001b[0m\u001b[1;33m\u001b[0m\u001b[1;33m\u001b[0m\u001b[0m\n\u001b[0m\u001b[0;32m     14\u001b[0m \u001b[1;33m\u001b[0m\u001b[0m\n\u001b[0;32m     15\u001b[0m     \u001b[0ma\u001b[0m\u001b[1;33m=\u001b[0m\u001b[0mb\u001b[0m\u001b[1;33m\u001b[0m\u001b[1;33m\u001b[0m\u001b[0m\n",
      "\u001b[1;31mTypeError\u001b[0m: 'i' is an invalid keyword argument for print()"
     ]
    }
   ],
   "source": [
    "#Q7\n",
    "# 1. You've to print first n fibonacci numbers.\n",
    "# 2. Take as input \"n\", the count of fibonacci numbers to print.\n",
    "# 3. Print first n fibonacci numbers.\n",
    "\n",
    "n= int(input(\"enter the number:\"))\n",
    "\n",
    "a=0\n",
    "b=1\n",
    "c=1\n",
    "\n",
    "for i in range(0,n+1):\n",
    "    \n",
    "    a=b\n",
    "    b=c\n",
    "    c=a+b"
   ]
  },
  {
   "cell_type": "code",
   "execution_count": null,
   "metadata": {},
   "outputs": [],
   "source": []
  }
 ],
 "metadata": {
  "kernelspec": {
   "display_name": "Python 3",
   "language": "python",
   "name": "python3"
  },
  "language_info": {
   "codemirror_mode": {
    "name": "ipython",
    "version": 3
   },
   "file_extension": ".py",
   "mimetype": "text/x-python",
   "name": "python",
   "nbconvert_exporter": "python",
   "pygments_lexer": "ipython3",
   "version": "3.8.3"
  }
 },
 "nbformat": 4,
 "nbformat_minor": 4
}
