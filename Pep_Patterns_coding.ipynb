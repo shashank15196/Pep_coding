{
 "cells": [
  {
   "cell_type": "code",
   "execution_count": 8,
   "metadata": {},
   "outputs": [
    {
     "name": "stdout",
     "output_type": "stream",
     "text": [
      "enter the number4\n",
      "* * * * \n",
      "* * * * \n",
      "* * * * \n",
      "* * * * \n"
     ]
    }
   ],
   "source": [
    "# Q1 : print( pattern 5*5)\n",
    "n= int(input(\"enter the number\"))\n",
    "\n",
    "# for i in range(0,n):\n",
    "#     for j in range(0,n):\n",
    "#         print(\"*\",end= \"\")\n",
    "\n",
    "for i in range(0,n):\n",
    "    for j in range(0,n):\n",
    "        print(\"*\", end= \" \")\n",
    "        \n",
    "    print()"
   ]
  },
  {
   "cell_type": "code",
   "execution_count": 10,
   "metadata": {},
   "outputs": [
    {
     "name": "stdout",
     "output_type": "stream",
     "text": [
      "enter the number 5\n",
      "* \n",
      "* * \n",
      "* * * \n",
      "* * * * \n",
      "* * * * * \n"
     ]
    }
   ],
   "source": [
    "n= int(input(\"enter the number \"))\n",
    "for i in range(0,n):## outer loop for rows and inner loop for column\n",
    "    for j in range(0, i+1): #  \n",
    "        print(\"* \",end=\"\")\n",
    "    print()"
   ]
  },
  {
   "cell_type": "code",
   "execution_count": 23,
   "metadata": {},
   "outputs": [
    {
     "name": "stdout",
     "output_type": "stream",
     "text": [
      "enter the number 5\n",
      "* * * * * \n",
      "* * * * \n",
      "* * * \n",
      "* * \n",
      "* \n"
     ]
    }
   ],
   "source": [
    "n= int(input(\"enter the number \"))\n",
    "for i in range(0,n):\n",
    "    # Inner loop\n",
    "    for j in range(0,n-i): #  stars kaam ho rahe hai\n",
    "        \n",
    "        print(\"*\",end=\" \")\n",
    "    print()"
   ]
  },
  {
   "cell_type": "code",
   "execution_count": 25,
   "metadata": {},
   "outputs": [
    {
     "name": "stdout",
     "output_type": "stream",
     "text": [
      "enter the number:5\n",
      "* * * * * \n",
      "  * * * * \n",
      "    * * * \n",
      "      * * \n",
      "        * \n"
     ]
    }
   ],
   "source": [
    "n= int(input(\"enter the number:\"))\n",
    "\n",
    "#space=0\n",
    "#star=5\n",
    "\n",
    "for i in range(0,n):\n",
    "    for j in range(0,i):\n",
    "        print(\" \", end=\" \")\n",
    "        \n",
    "    for k in range(0,n-i):\n",
    "        print(\"*\" , end=\" \")\n",
    "        \n",
    "    space=space+1\n",
    "    star=star-1\n",
    "    \n",
    "    print()"
   ]
  },
  {
   "cell_type": "code",
   "execution_count": 47,
   "metadata": {},
   "outputs": [
    {
     "name": "stdout",
     "output_type": "stream",
     "text": [
      "enter the number: 5\n",
      "        * \n",
      "      * * \n",
      "    * * * \n",
      "  * * * * \n",
      "* * * * * \n"
     ]
    }
   ],
   "source": [
    "n= int(input(\"enter the number: \"))\n",
    "\n",
    "\n",
    "\n",
    "stars=1\n",
    "spaces=n-1\n",
    "\n",
    "for i in range(0,n):\n",
    "    for j in range(0,spaces):\n",
    "        print(\" \",end=\" \")\n",
    "        \n",
    "    for k in range(0,stars):\n",
    "        print(\"*\",end=\" \")\n",
    "        \n",
    "    spaces=spaces-1\n",
    "    stars=stars+1\n",
    "    \n",
    "    print()"
   ]
  },
  {
   "cell_type": "code",
   "execution_count": null,
   "metadata": {},
   "outputs": [],
   "source": [
    "\n",
    "        "
   ]
  },
  {
   "cell_type": "code",
   "execution_count": 13,
   "metadata": {},
   "outputs": [
    {
     "name": "stdout",
     "output_type": "stream",
     "text": [
      "enter the number7\n",
      "      * \n",
      "    * * * \n",
      "  * * * * * \n",
      "* * * * * * * \n",
      "  * * * * * \n",
      "    * * * \n",
      "      * \n"
     ]
    }
   ],
   "source": [
    "n=int(input(\"enter the number\"))\n",
    "\n",
    "stars=1\n",
    "spaces=int(n/2)\n",
    "      \n",
    "for i in range(0,n):\n",
    "    for j in range(0,spaces):\n",
    "        print(\" \",end=\" \")\n",
    "        \n",
    "    for k in range(0,stars):\n",
    "        print(\"*\" ,end=\" \")\n",
    "      \n",
    "    if(i<int(n/2)):\n",
    "      spaces=spaces-1\n",
    "      stars=stars+2\n",
    "    \n",
    "    else:\n",
    "      spaces=spaces+1\n",
    "      stars=stars-2\n",
    "    \n",
    "    print()"
   ]
  },
  {
   "cell_type": "code",
   "execution_count": 16,
   "metadata": {},
   "outputs": [
    {
     "name": "stdout",
     "output_type": "stream",
     "text": [
      "enter the number:5\n",
      "*         \n",
      "  *       \n",
      "    *     \n",
      "      *   \n",
      "        * \n"
     ]
    }
   ],
   "source": [
    "n =int(input(\"enter the number:\"))\n",
    "\n",
    "for i in range(0,n):\n",
    "    for j in range(0,n):\n",
    "        if(i==j):\n",
    "            print(\"*\" ,end=\" \")\n",
    "        else:\n",
    "            print(\" \",end=\" \")\n",
    "            \n",
    "    print()"
   ]
  },
  {
   "cell_type": "code",
   "execution_count": 26,
   "metadata": {},
   "outputs": [
    {
     "name": "stdout",
     "output_type": "stream",
     "text": [
      "enter the number :5\n",
      "        * \n",
      "      * \n",
      "    * \n",
      "  * \n",
      "* \n"
     ]
    }
   ],
   "source": [
    "n=int(input(\"enter the number :\"))\n",
    "\n",
    "spaces=n-1\n",
    "stars=1\n",
    "\n",
    "for i in range(0,n):\n",
    "    for j in range(0,spaces):\n",
    "        print(\" \",end=\" \")\n",
    "    for k in range(0,stars):\n",
    "        print(\"*\",end=\" \")\n",
    "        \n",
    "    \n",
    "    spaces=spaces-1\n",
    "    \n",
    "    \n",
    "    print()\n",
    "        \n",
    "## we can also do n=by location like i+j==n+1"
   ]
  },
  {
   "cell_type": "code",
   "execution_count": 3,
   "metadata": {},
   "outputs": [
    {
     "name": "stdout",
     "output_type": "stream",
     "text": [
      "enter the number5\n",
      "*       * \n",
      "  *   *   \n",
      "    *     \n",
      "  *   *   \n",
      "*       * \n"
     ]
    }
   ],
   "source": [
    "n=int(input(\"enter the number\"))\n",
    "\n",
    "for i in range(0,n):\n",
    "    for j in range(0,n):\n",
    "        if ((i==j) or (i+j==n-1)):\n",
    "            print(\"*\",end=\" \")\n",
    "            \n",
    "        else:\n",
    "            print(\" \",end=\" \")\n",
    "            \n",
    "    print()"
   ]
  },
  {
   "cell_type": "code",
   "execution_count": 24,
   "metadata": {},
   "outputs": [
    {
     "name": "stdout",
     "output_type": "stream",
     "text": [
      "enter the number5\n",
      "    * \n",
      "        \n",
      "          \n",
      "        \n",
      "    * \n"
     ]
    }
   ],
   "source": [
    "n=int(input(\"enter the number\"))\n",
    "\n",
    "stars=1\n",
    "spaces=int(n/2)\n",
    "      \n",
    "for i in range(0,n):\n",
    "    for j in range(0,spaces):\n",
    "        print(\" \",end=\" \")\n",
    "        \n",
    "    for k in range(0,stars):\n",
    "        #print(\"*\" ,end=\" \")\n",
    "        if((j==1) or (j==stars)):\n",
    "            print(\"*\",end=\" \")\n",
    "        else:\n",
    "            print(\" \",end=\" \")\n",
    "      \n",
    "    if(i<int(n/2)):\n",
    "        spaces=spaces-1\n",
    "        stars=stars+2\n",
    "    \n",
    "    else:\n",
    "        spaces=spaces+1\n",
    "        stars=stars-2\n",
    "    \n",
    "    print()"
   ]
  },
  {
   "cell_type": "code",
   "execution_count": 16,
   "metadata": {},
   "outputs": [
    {
     "name": "stdout",
     "output_type": "stream",
     "text": [
      "enter the number 5\n",
      "1 \n",
      "2 3 \n",
      "4 5 6 \n",
      "7 8 9 10 \n",
      "11 12 13 14 15 \n"
     ]
    }
   ],
   "source": [
    "n= int(input(\"enter the number \"))\n",
    "counter=1\n",
    "for i in range(0,n):## outer loop for rows and inner loop for column\n",
    "    for j in range(0, i+1):\n",
    "        print(counter,end=\" \")\n",
    "        counter+=1  \n",
    "        \n",
    "    print()\n",
    "    \n",
    "# rows = int(input(\"Enter number of rows: \"))\n",
    "# number = 1\n",
    "\n",
    "# for i in range(1, rows+1):\n",
    "#     for j in range(1, i+1):\n",
    "#         print(number, end=\" \")\n",
    "#         number += 1\n",
    "#     print()\n",
    "    "
   ]
  },
  {
   "cell_type": "code",
   "execution_count": 30,
   "metadata": {},
   "outputs": [
    {
     "name": "stdout",
     "output_type": "stream",
     "text": [
      "enter the number: 5\n",
      "5 * 1 = 5\n",
      "5 * 2 = 10\n",
      "5 * 3 = 15\n",
      "5 * 4 = 20\n",
      "5 * 5 = 25\n",
      "5 * 6 = 30\n",
      "5 * 7 = 35\n",
      "5 * 8 = 40\n",
      "5 * 9 = 45\n",
      "5 * 10 = 50\n"
     ]
    }
   ],
   "source": [
    "n =int(input(\"enter the number: \"))\n",
    "\n",
    "\n",
    "for i in range(1,11):\n",
    "    print (\"%d * %d = %d\" % (n, i, n * i) )\n",
    " \n",
    "\n",
    "\n",
    "\n"
   ]
  },
  {
   "cell_type": "code",
   "execution_count": 4,
   "metadata": {},
   "outputs": [
    {
     "name": "stdout",
     "output_type": "stream",
     "text": [
      "enter the number 5\n",
      "0 \n",
      "1 1 \n",
      "2 3 5 \n",
      "8 13 21 34 \n",
      "55 89 144 233 377 \n"
     ]
    }
   ],
   "source": [
    "n= int(input(\"enter the number \"))\n",
    "\n",
    "a=0\n",
    "b=1\n",
    "\n",
    "\n",
    "for i in range(0,n):## outer loop for rows and inner loop for column\n",
    "    for j in range(0,i+1): # \n",
    "        print(a ,end=\" \")\n",
    "        c=a+b\n",
    "        a=b\n",
    "        b=c\n",
    "    print()"
   ]
  },
  {
   "cell_type": "code",
   "execution_count": 2,
   "metadata": {},
   "outputs": [
    {
     "name": "stdout",
     "output_type": "stream",
     "text": [
      "enter the number 5\n",
      "1 \n",
      "1 1.0 \n",
      "1 2.0 1.0 \n",
      "1 3.0 3.0 1.0 \n",
      "1 4.0 6.0 4.0 1.0 \n",
      "1 5.0 10.0 10.0 5.0 1.0 \n"
     ]
    }
   ],
   "source": [
    "n=int(input(\"enter the number \"))\n",
    "for i in range(0,n+1):\n",
    "    icj=1## outer loop for rows and inner loop for column\n",
    "    for j in range(i+1):\n",
    "        print(icj ,end=\" \")\n",
    "        icjp1=icj * (i-j)/(j+1)\n",
    "        icj=icjp1 \n",
    "        \n",
    "        \n",
    "    print()"
   ]
  },
  {
   "cell_type": "code",
   "execution_count": 12,
   "metadata": {},
   "outputs": [
    {
     "name": "stdout",
     "output_type": "stream",
     "text": [
      "enter the number: 5\n",
      "1               1 \n",
      "1 2           2 1 \n",
      "1 2 3       3 2 1 \n",
      "1 2 3 4   4 3 2 1 \n",
      "1 2 3 4 5 5 4 3 2 1 \n"
     ]
    }
   ],
   "source": [
    "n=int(input(\"enter the number: \"))\n",
    "\n",
    "stars=1\n",
    "spaces=2*n-3\n",
    "\n",
    "\n",
    "\n",
    "for i in range(0,n):\n",
    "    val=1\n",
    "    for j in range(0,stars):\n",
    "        print(val, end =\" \")\n",
    "        val=val+1\n",
    "    for k in range(0,spaces):\n",
    "        print(\" \",end=\" \")\n",
    "    if i==n:\n",
    "        print(stars=stars-1)\n",
    "        \n",
    "    val=stars\n",
    "    for j in range(0,stars):\n",
    "        print(val, end =\" \")\n",
    "        val=val-1\n",
    "    \n",
    "       \n",
    "    stars=stars+1\n",
    "    spaces=spaces-2\n",
    "    \n",
    "    print()\n",
    "   \n"
   ]
  },
  {
   "cell_type": "code",
   "execution_count": 36,
   "metadata": {},
   "outputs": [
    {
     "name": "stdout",
     "output_type": "stream",
     "text": [
      "enter the number5\n",
      "    * \n",
      "    * * \n",
      "* * * * * \n",
      "    * * \n",
      "    * \n"
     ]
    }
   ],
   "source": [
    "n=int(input(\"enter the number\"))\n",
    "\n",
    "stars=1\n",
    "spaces=int(n/2)\n",
    "      \n",
    "for i in range(0,n):\n",
    "    for j in range(0,spaces):\n",
    "        if (i== int(n/2)):\n",
    "            print(\"*\" ,end=\" \")\n",
    "        else:\n",
    "            print(\" \",end=\" \")\n",
    "        \n",
    "        \n",
    "        #print(\" \",end=\" \")\n",
    "        \n",
    "    for k in range(0,stars):\n",
    "        print(\"*\" ,end=\" \")\n",
    "      \n",
    "    if(i<int(n/2)):\n",
    "        \n",
    "        \n",
    "        #spaces=spaces-1\n",
    "        stars=stars+1\n",
    "    \n",
    "    else:\n",
    "        #spaces=spaces+1\n",
    "          stars=stars-1\n",
    "    \n",
    "    print()"
   ]
  },
  {
   "cell_type": "code",
   "execution_count": null,
   "metadata": {},
   "outputs": [],
   "source": []
  }
 ],
 "metadata": {
  "kernelspec": {
   "display_name": "Python 3",
   "language": "python",
   "name": "python3"
  },
  "language_info": {
   "codemirror_mode": {
    "name": "ipython",
    "version": 3
   },
   "file_extension": ".py",
   "mimetype": "text/x-python",
   "name": "python",
   "nbconvert_exporter": "python",
   "pygments_lexer": "ipython3",
   "version": "3.8.3"
  }
 },
 "nbformat": 4,
 "nbformat_minor": 4
}
