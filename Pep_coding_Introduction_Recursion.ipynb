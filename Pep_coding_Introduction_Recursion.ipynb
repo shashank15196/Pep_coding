{
 "cells": [
  {
   "cell_type": "code",
   "execution_count": 70,
   "metadata": {},
   "outputs": [
    {
     "name": "stdout",
     "output_type": "stream",
     "text": [
      "enter the number:5\n",
      "1\n",
      "2\n",
      "3\n",
      "4\n",
      "5\n",
      "6\n",
      "7\n",
      "8\n",
      "9\n",
      "10\n"
     ]
    }
   ],
   "source": [
    "# 1. You are given a positive number n. \n",
    "# 2. You are required to print the counting from 1 to n.\n",
    "# 3. You are required to not use any loops. Complete the body of print Increasing function to achieve it. Don't change the signature of the function.\n",
    "\n",
    "# Note -> The online judge can't force you to write the function recursively but that is what the spirit of question is. Write recursive and not iterative logic. The purpose of the question is to aid learning recursion and not test you.\n",
    "\n",
    "\n",
    "n=int(input(\"enter the number:\"))\n",
    "\n",
    "def increasing(n):\n",
    "    \n",
    "    # base case\n",
    "    if(n==0):\n",
    "        return\n",
    "    ## faith\n",
    "    increasing(n-1)\n",
    "    \n",
    "    ## print base case\n",
    "    print(n)\n",
    "    \n",
    "increasing(10)\n",
    "    "
   ]
  },
  {
   "cell_type": "code",
   "execution_count": 22,
   "metadata": {},
   "outputs": [
    {
     "name": "stdout",
     "output_type": "stream",
     "text": [
      "10\n",
      "9\n",
      "8\n",
      "7\n",
      "6\n",
      "5\n",
      "4\n",
      "3\n",
      "2\n",
      "1\n"
     ]
    }
   ],
   "source": [
    "# 1. You are given a positive number n. \n",
    "# 2. You are required to print the counting from n to 1.\n",
    "# 3. You are required to not use any loops. Complete the body of print Decreasing function to achieve it.\n",
    "\n",
    "# Note -> The online judge can't force you to write the function recursively but that is what the spirit of question is. Write recursive and not iterative logic. The purpose of the question is to aid learning recursion and not test you.\n",
    "\n",
    "\n",
    "\n",
    "def decreasing(n):\n",
    "    \n",
    "    # base case\n",
    "    if(n==0):\n",
    "        return\n",
    "    \n",
    "    #print base\n",
    "    print(n)\n",
    "    \n",
    "    # faith\n",
    "    decreasing(n-1)\n",
    "\n",
    "decreasing(10)\n",
    "    "
   ]
  },
  {
   "cell_type": "code",
   "execution_count": 26,
   "metadata": {},
   "outputs": [
    {
     "name": "stdout",
     "output_type": "stream",
     "text": [
      "10\n",
      "9\n",
      "8\n",
      "7\n",
      "6\n",
      "5\n",
      "4\n",
      "3\n",
      "2\n",
      "1\n",
      "1\n",
      "2\n",
      "3\n",
      "4\n",
      "5\n",
      "6\n",
      "7\n",
      "8\n",
      "9\n",
      "10\n"
     ]
    }
   ],
   "source": [
    "# 1. You are given a positive number n. \n",
    "# 2. You are required to print the counting from n to 1 and back to n again.\n",
    "# 3. You are required to not use any loops. Complete the body of pdi function to achieve it. Don't change the signature of the function.\n",
    "\n",
    "# Note -> The online judge can't force you to write the function recursively but that is what the spirit of question is.Write recursive and not iterative logic. The purpose of the question is to aid learning recursion and not test you.\n",
    "\n",
    "\n",
    "def incdec(n):\n",
    "    \n",
    "    if(n==0):\n",
    "        return\n",
    "    print(n)\n",
    "    \n",
    "    incdec(n-1)\n",
    "    \n",
    "    print(n)\n",
    "incdec(10)\n",
    "    "
   ]
  },
  {
   "cell_type": "code",
   "execution_count": 49,
   "metadata": {},
   "outputs": [
    {
     "name": "stdout",
     "output_type": "stream",
     "text": [
      "32\n"
     ]
    }
   ],
   "source": [
    "# 1. You are given a number x.\n",
    "# 2. You are given another number n.\n",
    "# 3. You are required to calculate x raised to the power n. Don't change the signature of power function .\n",
    "\n",
    "# Note -> The online judge can't force you to write the function recursively but that is what the spirit of question is. Write recursive and not iterative logic. The purpose of the question is to aid learning recursion and not test you.\n",
    "\n",
    "#xpn=pow(x,n)\n",
    "def rpower(n,x):\n",
    "    if(x==1):\n",
    "       return(n)\n",
    "    else:\n",
    "       return(n*rpower(n,x-1))\n",
    "print(rpower(2,5))\n",
    "\n",
    "\n",
    "###\n",
    "# def power(n,x):\n",
    "#     if(n==0):\n",
    "#         return 1\n",
    "#     else:\n",
    "#         return(n*rpower(n,x-1))\n",
    "# print(power(2,5))\n",
    "\n",
    "    \n",
    "    "
   ]
  },
  {
   "cell_type": "code",
   "execution_count": 56,
   "metadata": {},
   "outputs": [
    {
     "data": {
      "text/plain": [
       "4294967296.0"
      ]
     },
     "execution_count": 56,
     "metadata": {},
     "output_type": "execute_result"
    }
   ],
   "source": [
    "# 1. You are given a number x.\n",
    "# 2. You are given another number n.\n",
    "# 3. You are required to calculate x raised to the power n. Don't change the signature of power function.\n",
    "\n",
    "# Note1 -> The previous version expects the call stack to be of n height. This function expects call function to be only log(n) high.\n",
    "\n",
    "# Note2 -> The online judge can't force you to write the function recursively but that is what the spirit of question is. Write recursive and not iterative logic. The purpose of the question is to aid learning recursion and not test you.\n",
    "\n",
    "def log(x,n):\n",
    "    ## base case\n",
    "    if(n==0):\n",
    "        return 1\n",
    "    ## expectation x^n\n",
    "    ##faith x^n/2\n",
    "    xpnb2=pow(x,n/2)\n",
    "    \n",
    "    ## x^n=x^n/2 *x^n/2\n",
    "    \n",
    "    xpn=xpnb2*xpnb2\n",
    "    \n",
    "    if(n%2==1):\n",
    "         xpn=xpn*x\n",
    "    return(xpn)\n",
    "        \n",
    "    \n",
    "log(2,32)"
   ]
  },
  {
   "cell_type": "code",
   "execution_count": 52,
   "metadata": {},
   "outputs": [
    {
     "name": "stdout",
     "output_type": "stream",
     "text": [
      "3 2 1 1 1 2 1 1 1 2 3 2 1 1 1 2 1 1 1 2 3 "
     ]
    }
   ],
   "source": [
    "# 1. Here are a few sets of inputs and outputs for your reference\n",
    "# Input1 -> 1\n",
    "# Output1 -> 1 1 1\n",
    "\n",
    "# Input2 -> 2\n",
    "# Output2 -> 2 1 1 1 2 1 1 1 2\n",
    "\n",
    "# Input2 -> 3\n",
    "# Output3 -> 3 2 1 1 1 2 1 1 1 2 3 2 1 1 1 2 1 1 1 2 3\n",
    "\n",
    "# 2. Figure out the pattern and complete the recursive function pzz to achieve the above for any positive number n.\n",
    "\n",
    "# Note -> The online judge can't force you to write the function recursively but that is what the spirit of question is.Write recursive and not iterative logic. The purpose of the question is to aid learning recursion and not test you.\n",
    "\n",
    "\n",
    "\n",
    "def pzz(n):\n",
    "    if(n==0):\n",
    "        return\n",
    "    print(n ,end= \" \")\n",
    "    \n",
    "    pzz(n-1)\n",
    "    \n",
    "    print(n ,end= \" \")\n",
    "    \n",
    "    pzz(n-1)\n",
    "    \n",
    "    print(n ,end= \" \")\n",
    "    \n",
    "pzz(3)"
   ]
  },
  {
   "cell_type": "code",
   "execution_count": 69,
   "metadata": {},
   "outputs": [
    {
     "name": "stdout",
     "output_type": "stream",
     "text": [
      "rolling disk 1 from source tower 10 to destination tower 20\n",
      "rolling disk 2 from source tower 10 to destination tower 20\n",
      "rolling disk 1 from source tower 30 to destination tower 20\n",
      "rolling disk 3 from source tower 10 to destination tower 20\n",
      "rolling disk 1 from source tower 30 to destination tower 20\n",
      "rolling disk 2 from source tower 30 to destination tower 20\n",
      "rolling disk 1 from source tower 10 to destination tower 20\n"
     ]
    }
   ],
   "source": [
    "# 1. There are 3 towers. Tower 1 has n disks, where n is a positive number. Tower 2 and 3 are empty.\n",
    "# 2. The disks are increasingly placed in terms of size such that the smallest disk is on top and largest disk is at bottom.\n",
    "# 3. You are required to \n",
    "#     3.1. Print the instructions to move the disks.\n",
    "#     3.2. from tower 1 to tower 2 using tower 3 \n",
    "#     3.3. following the rules\n",
    "#         3.3.1 move 1 disk at a time.\n",
    "#         3.3.2 never place a smaller disk under a larger disk.\n",
    "#         3.3.3 you can only move a disk at the top.\n",
    "\n",
    "# Note -> The online judge can't force you to write the function recursively but that is what the spirit of question is.Write recursive and not iterative logic. The purpose of the question is to aid learning recursion and not test you.\n",
    "\n",
    "\n",
    "def toh(n,t1,t2,t3):\n",
    "    \n",
    "    if(n==0):\n",
    "        return\n",
    "    \n",
    "    toh(n-1,t1,t2,t3)\n",
    "    \n",
    "    \n",
    "    print(\"rolling disk\" ,n,\"from source tower\",t1,\"to destination tower\",t2)\n",
    "    \n",
    "    toh(n-1,t3,t2,t1)\n",
    "    \n",
    "toh(3,10,20,30)\n",
    "    "
   ]
  },
  {
   "cell_type": "code",
   "execution_count": null,
   "metadata": {},
   "outputs": [],
   "source": []
  }
 ],
 "metadata": {
  "kernelspec": {
   "display_name": "Python 3",
   "language": "python",
   "name": "python3"
  },
  "language_info": {
   "codemirror_mode": {
    "name": "ipython",
    "version": 3
   },
   "file_extension": ".py",
   "mimetype": "text/x-python",
   "name": "python",
   "nbconvert_exporter": "python",
   "pygments_lexer": "ipython3",
   "version": "3.8.3"
  }
 },
 "nbformat": 4,
 "nbformat_minor": 4
}
