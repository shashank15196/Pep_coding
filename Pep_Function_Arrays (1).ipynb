{
 "cells": [
  {
   "cell_type": "code",
   "execution_count": 10,
   "metadata": {},
   "outputs": [
    {
     "data": {
      "text/plain": [
       "2"
      ]
     },
     "execution_count": 10,
     "metadata": {},
     "output_type": "execute_result"
    }
   ],
   "source": [
    "\n",
    "\n",
    "# Function returns\n",
    "def digit_frequency_calculator(num, digit):\n",
    "    counter = 0 # Counter to keep the track of frequency of digit in the num \n",
    "    while(num):\n",
    "        unit_digit = num%10        # Get the unit digit \n",
    "        if unit_digit == digit:\n",
    "            counter = counter + 1\n",
    "        num = num // 10 # same as num = int(num/10)\n",
    "    return counter\n",
    "# Get the absolute value of the integer. \n",
    "# Second parameter is the number whose frequency we want to calculate\n",
    "digit_frequency_calculator(abs(123548587459), 8)\n",
    "#Output \n",
    "#3"
   ]
  },
  {
   "cell_type": "code",
   "execution_count": 35,
   "metadata": {},
   "outputs": [
    {
     "name": "stdout",
     "output_type": "stream",
     "text": [
      "enter the number :5\n",
      "enter the number3\n",
      "60.0\n"
     ]
    }
   ],
   "source": [
    "### permutation and combination\n",
    "n=int(input(\"enter the number :\"))\n",
    "r=int(input(\"enter the number\"))\n",
    "a=1\n",
    "\n",
    "for i in range(1,n+1):\n",
    "        a=a*i\n",
    "b=1\n",
    "c=n-r\n",
    "for j in range(1,c+1):\n",
    "        b=b*j\n",
    "result=a/b\n",
    "print(result)\n"
   ]
  },
  {
   "cell_type": "code",
   "execution_count": 10,
   "metadata": {},
   "outputs": [
    {
     "name": "stdout",
     "output_type": "stream",
     "text": [
      "11111110\n"
     ]
    }
   ],
   "source": [
    "### decimal to Binary ### any base \n",
    "# n= int(input(\"enter the number: \"))\n",
    "# b= int(input(\"enter the number : \"))\n",
    "\n",
    "# ans=0\n",
    "# power=1 ###10^0\n",
    "\n",
    "# while(n!=0):\n",
    "#     r=n%b ## to get the remainder\n",
    "#     n=n//b ### to reduce it\n",
    "    \n",
    "#     ans=ans + r*power\n",
    "#     power=power*10\n",
    "# print(ans,end=\" \")\n",
    "\n",
    "def decimal_to_binary(n,x):\n",
    "    ans=0\n",
    "    power=1\n",
    "    \n",
    "    while(n!=0):\n",
    "        lastdigit=n%x\n",
    "        n=n//x\n",
    "        \n",
    "        ans=ans+(lastdigit*power)\n",
    "        \n",
    "        power=power*10\n",
    "    return(ans)\n",
    "\n",
    "print(decimal_to_binary(254,2))"
   ]
  },
  {
   "cell_type": "code",
   "execution_count": 4,
   "metadata": {},
   "outputs": [
    {
     "name": "stdout",
     "output_type": "stream",
     "text": [
      "2\n"
     ]
    }
   ],
   "source": [
    "##Count digit frequency\n",
    "# n= int(input(\"enter the number: \"))\n",
    "# b= int(input(\"enter the number : \"))\n",
    "def frequncey_digit(n,x):\n",
    "    counter=0\n",
    "    while n>0:\n",
    "        digit =n%10\n",
    "        n=n//10\n",
    "        if digit==x:\n",
    "            counter=counter+1\n",
    "    return(counter)\n",
    "\n",
    "print(frequncey_digit(24587628,8))\n",
    "    \n",
    "    \n",
    "    "
   ]
  },
  {
   "cell_type": "code",
   "execution_count": 17,
   "metadata": {},
   "outputs": [
    {
     "name": "stdout",
     "output_type": "stream",
     "text": [
      "254\n"
     ]
    }
   ],
   "source": [
    "# Any base to decimal\n",
    "\n",
    "\n",
    "def Any_base_decimal(n,x):\n",
    "    ans=0\n",
    "    power=1 ## 10^0 means x^0\n",
    "    while(n!=0):\n",
    "        lastdigit=n%10\n",
    "        n=n//10\n",
    "        ans=ans + (lastdigit*power)\n",
    "        \n",
    "        power=power *x\n",
    "    return(ans)\n",
    "\n",
    "print(Any_base_decimal(376,8))\n",
    "    \n",
    "    \n",
    "\n"
   ]
  },
  {
   "cell_type": "code",
   "execution_count": 19,
   "metadata": {},
   "outputs": [
    {
     "name": "stdout",
     "output_type": "stream",
     "text": [
      "1111010\n"
     ]
    }
   ],
   "source": [
    "# Any base to any base\n",
    "\n",
    "\n",
    "\n",
    "def get_ans(n,x1,x2):\n",
    "    a=Any_base_decimal(n,x1)\n",
    "    b=decimal_to_binary(a,x2)\n",
    "    \n",
    "    return(b)\n",
    "print(get_ans(172,8,2))\n",
    "\n",
    "def Any_base_decimal(n,x):\n",
    "    ans=0\n",
    "    power=1 ## 10^0 means x^0\n",
    "    while(n!=0):\n",
    "        lastdigit=n%10\n",
    "        n=n//10\n",
    "        ans=ans + (lastdigit*power)\n",
    "        \n",
    "        power=power *x\n",
    "    return(ans)\n",
    "\n",
    "#print(Any_base_decimal(376,8))\n",
    "    \n",
    "    \n",
    "def decimal_to_binary(n,x):\n",
    "    ans=0\n",
    "    power=1\n",
    "    \n",
    "    while(n!=0):\n",
    "        lastdigit=n%x\n",
    "        n=n//x\n",
    "        \n",
    "        ans=ans+(lastdigit*power)\n",
    "        \n",
    "        power=power*10\n",
    "    return(ans)\n",
    "\n",
    "#print(decimal_to_binary(254,2))\n",
    "    \n",
    "\n",
    "\n",
    "\n",
    "\n",
    "    "
   ]
  },
  {
   "cell_type": "code",
   "execution_count": 23,
   "metadata": {},
   "outputs": [
    {
     "name": "stdout",
     "output_type": "stream",
     "text": [
      "2966\n"
     ]
    }
   ],
   "source": [
    "### Any base addition\n",
    "\n",
    "\n",
    "def any_base_addition(b,n1,n2):\n",
    "    ans=0\n",
    "    carry=0\n",
    "    power=1\n",
    "    \n",
    "    while(n1!=0 or n2!=0 or carry!=0):\n",
    "        lastdigit1= n1%b\n",
    "        lastdigit2=n2%b\n",
    "        n1=n1//b\n",
    "        n2=n2//b\n",
    "        \n",
    "        sum=n1 +n2 +carry\n",
    "        q=sum//b\n",
    "        r= sum%b\n",
    "        \n",
    "        ans=ans+ r*power\n",
    "        carry=q\n",
    "        power=power*10\n",
    "    return(ans)\n",
    "\n",
    "print(any_base_addition(10,9845,523))\n",
    "        \n",
    "        \n"
   ]
  },
  {
   "cell_type": "code",
   "execution_count": 6,
   "metadata": {},
   "outputs": [
    {
     "name": "stdout",
     "output_type": "stream",
     "text": [
      "254\n"
     ]
    }
   ],
   "source": [
    "### any base substraction\n",
    "##constraint n2>n1\n",
    "def any_base_substraction(b,n2,n1):\n",
    "    ans=0\n",
    "    borrow=0\n",
    "    power=1\n",
    "    \n",
    "    while(n2!=0):\n",
    "        lastdigit1= n1%10\n",
    "        lastdigit2=n2%10\n",
    "        n1=n1//10\n",
    "        n2=n2//10\n",
    "        \n",
    "        Diff=(lastdigit2-borrow) -lastdigit1\n",
    "        if Diff<0:\n",
    "            \n",
    "            Diff=Diff+b\n",
    "            borrow=1\n",
    "        else:\n",
    "            borrow=0\n",
    "        \n",
    "        ans=ans+ Diff*power\n",
    "        power=power*10\n",
    "    return(ans)\n",
    "\n",
    "print(any_base_substraction(8,347,73))\n"
   ]
  },
  {
   "cell_type": "code",
   "execution_count": 6,
   "metadata": {},
   "outputs": [
    {
     "name": "stdout",
     "output_type": "stream",
     "text": [
      "124611\n"
     ]
    }
   ],
   "source": [
    "### Any base multiplication\n",
    "\n",
    "\n",
    "def any_base_multiplication(b,n1,n2):\n",
    "    \n",
    "    ans=0\n",
    "    power=1\n",
    "    \n",
    "    while(n2!=0):\n",
    "        \n",
    "        lastdigit2=n2%10\n",
    "        n2=n2//10\n",
    "        \n",
    "        pwsd= get_product_single_digit(b,n1,lastdigit2)\n",
    "        ###ans=ans+pwsd*power\n",
    "        ans=any_base_addition(b,ans,pwsd*power)\n",
    "        power=power*10\n",
    "        \n",
    "    return(ans)\n",
    "print(any_base_multiplication(8,2785,25))\n",
    "\n",
    "\n",
    "def get_product_single_digit(b,n1,d2):\n",
    "    \n",
    "    ans=0\n",
    "    carry=0\n",
    "    power=1\n",
    "    \n",
    "    while(n1!=0 or carry !=0):\n",
    "        lastdigit1=n1%10\n",
    "        n1=n1//10\n",
    "        \n",
    "        \n",
    "        product=lastdigit1*d2 +carry\n",
    "        \n",
    "        q=product//b\n",
    "        r=product%b\n",
    "        \n",
    "        \n",
    "        ans=ans+ r*power\n",
    "        carry=q\n",
    "        power=power*10\n",
    "    return(ans)\n",
    "\n",
    "def any_base_addition(b,n1,n2):\n",
    "    ans=0\n",
    "    carry=0\n",
    "    power=1\n",
    "    \n",
    "    while(n1!=0 or n2!=0 or carry!=0):\n",
    "        lastdigit1= n1%b\n",
    "        lastdigit2=n2%b\n",
    "        n1=n1//b\n",
    "        n2=n2//b\n",
    "        \n",
    "        sum=n1 +n2 +carry\n",
    "        q=sum//b\n",
    "        r= sum%b\n",
    "        \n",
    "        ans=ans+ r*power\n",
    "        carry=q\n",
    "        power=power*10\n",
    "    return(ans)"
   ]
  },
  {
   "cell_type": "code",
   "execution_count": 3,
   "metadata": {},
   "outputs": [
    {
     "name": "stdout",
     "output_type": "stream",
     "text": [
      "5\n",
      "10 80 100 150\n",
      "140\n"
     ]
    }
   ],
   "source": [
    "# 1. You are given a number n, representing the count of elements.\n",
    "# 2. You are given n numbers.\n",
    "# 3. You are required to find the span of input. Span is defined as difference of maximum value and minimum value.\n",
    "\n",
    "# Constraints\n",
    "# 1 <= n <= 10^4\n",
    "# 0 <= n1, n2\n",
    "#  .. n elements <= 10 ^9\n",
    "\n",
    "import array as arr\n",
    "n=int(input())\n",
    "arr = input()   # takes the whole line of n numbers\n",
    "l = list(map(int,arr.split(' '))) # split those numbers with space( becomes ['2','3','6','6','5']) and then map every element into int (becomes [2,3,6,6,5])\n",
    "\n",
    "maimum_number=max(l)\n",
    "minimum_number=min(l)\n",
    "\n",
    "result=   maimum_number- minimum_number\n",
    "\n",
    "print(result)\n",
    "\n",
    "\n"
   ]
  },
  {
   "cell_type": "code",
   "execution_count": 44,
   "metadata": {},
   "outputs": [
    {
     "name": "stdout",
     "output_type": "stream",
     "text": [
      "Enter the length of the array5\n",
      "Enter the next value1\n",
      "Enter the next value2\n",
      "Enter the next value3\n",
      "Enter the next value4\n",
      "Enter the next value5\n",
      "array('i', [1, 2, 3, 4, 5])\n",
      "Enter the value for search :4\n",
      "0\n",
      "3\n"
     ]
    }
   ],
   "source": [
    "# 1.You are given a number n, representing the size of array a.\n",
    "# 2.You are given n distinct numbers, representing elements of array a.\n",
    "# 3. You are given another number d.\n",
    "# 4. You are required to check if d number exists in the array a and at what index (0 based). If found print the index, otherwise print -1.\n",
    "\n",
    "\n",
    "from array import *\n",
    "\n",
    "arr= list()\n",
    "\n",
    "\n",
    "n = int(input(\"Enter the length of the array\"))\n",
    "\n",
    "for i in range(n):\n",
    "    x = int(input(\"Enter the next value\"))\n",
    "    arr.append(x)\n",
    "\n",
    "print(arr)\n",
    "\n",
    "val = int(input(\"Enter the value for search :\"))\n",
    "\n",
    "#k = 0\n",
    "for e in arr:\n",
    "    if e==val:\n",
    "        print(k)\n",
    "        break\n",
    "\n",
    "    #k+=1\n",
    "\n",
    "print(arr.index(val))"
   ]
  },
  {
   "cell_type": "code",
   "execution_count": 12,
   "metadata": {},
   "outputs": [],
   "source": [
    "# 1. You are given a number n1, representing the size of array a1.\n",
    "# 2. You are given n1 numbers, representing elements of array a1.\n",
    "# 3. You are given a number n2, representing the size of array a2.\n",
    "# 4. You are given n2 numbers, representing elements of array a2.\n",
    "# 5. The two arrays represent digits of two numbers.\n",
    "# 6. You are required to add the numbers represented by two arrays and print the\n",
    "# arrays.\n",
    "\n"
   ]
  },
  {
   "cell_type": "code",
   "execution_count": 14,
   "metadata": {},
   "outputs": [
    {
     "name": "stdout",
     "output_type": "stream",
     "text": [
      "[5, 4, 3, 2, 1]\n"
     ]
    }
   ],
   "source": [
    "# 1. You are given a number n, representing the size of array a.\n",
    "# 2. You are given n numbers, representing elements of array a.\n",
    "# 3. You are required to reverse the contents of array a.\n",
    "\n",
    "def reverse(nums):\n",
    "  \n",
    "    #Pointing to the first element\n",
    "    start_index = 0\n",
    "    #Pointing to the last element\n",
    "    end_index = len(nums)-1\n",
    "\n",
    "    while end_index > start_index:\n",
    "        nums[start_index],nums[end_index] = nums[end_index],nums[start_index]\n",
    "        start_index = start_index + 1\n",
    "        end_index = end_index -1\n",
    "\n",
    "if __name__ == '__main__':\n",
    "    n = [1,2,3,4,5]\n",
    "    reverse(n)\n",
    "    print(n)\n",
    "    \n"
   ]
  },
  {
   "cell_type": "code",
   "execution_count": null,
   "metadata": {},
   "outputs": [],
   "source": []
  }
 ],
 "metadata": {
  "kernelspec": {
   "display_name": "Python 3",
   "language": "python",
   "name": "python3"
  },
  "language_info": {
   "codemirror_mode": {
    "name": "ipython",
    "version": 3
   },
   "file_extension": ".py",
   "mimetype": "text/x-python",
   "name": "python",
   "nbconvert_exporter": "python",
   "pygments_lexer": "ipython3",
   "version": "3.8.3"
  }
 },
 "nbformat": 4,
 "nbformat_minor": 4
}
